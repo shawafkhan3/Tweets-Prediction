{
 "cells": [
  {
   "cell_type": "code",
   "execution_count": 1,
   "metadata": {},
   "outputs": [],
   "source": [
    "import random\n",
    "random.seed(53)"
   ]
  },
  {
   "cell_type": "code",
   "execution_count": 2,
   "metadata": {},
   "outputs": [],
   "source": [
    "import pandas as pd\n",
    "data=pd.read_csv(\"C:\\\\Users\\\\Shawaf Khan\\\\Desktop\\\\tweet_data.csv\",index_col=0)"
   ]
  },
  {
   "cell_type": "code",
   "execution_count": 3,
   "metadata": {},
   "outputs": [
    {
     "name": "stdout",
     "output_type": "stream",
     "text": [
      "id        0\n",
      "author    0\n",
      "status    0\n",
      "dtype: int64\n"
     ]
    }
   ],
   "source": [
    "import numpy as np\n",
    "print(data.isnull().sum())"
   ]
  },
  {
   "cell_type": "code",
   "execution_count": 4,
   "metadata": {},
   "outputs": [
    {
     "name": "stdout",
     "output_type": "stream",
     "text": [
      "   id           author                                             status\n",
      "0   1  Donald J. Trump  I will be making a major statement from the @W...\n",
      "1   2  Donald J. Trump  Just arrived at #ASEAN50 in the Philippines fo...\n",
      "2   3  Donald J. Trump  After my tour of Asia, all Countries dealing w...\n",
      "3   4  Donald J. Trump  Great to see @RandPaul looking well and back o...\n",
      "4   5  Donald J. Trump  Excited to be heading home to see the House pa...\n"
     ]
    }
   ],
   "source": [
    "print(data.head())\n",
    "y=data[\"author\"]"
   ]
  },
  {
   "cell_type": "code",
   "execution_count": 5,
   "metadata": {},
   "outputs": [
    {
     "data": {
      "text/plain": [
       "357    Canadians send their condolences to those affe...\n",
       "256    We’re making progress on the TPP – and working...\n",
       "175    Ed Gillespie will turn the really bad Virginia...\n",
       "228    Nous sommes arrivés aux Philippines pour assis...\n",
       "152    Today is National Prescription Drug Take Back ...\n",
       "Name: status, dtype: object"
      ]
     },
     "execution_count": 5,
     "metadata": {},
     "output_type": "execute_result"
    }
   ],
   "source": [
    "from sklearn.model_selection import train_test_split\n",
    "X_train,X_test,Y_train,Y_test=train_test_split(data[\"status\"],y,random_state=53,test_size=0.33)\n",
    "X_train.head()\n"
   ]
  },
  {
   "cell_type": "code",
   "execution_count": 6,
   "metadata": {},
   "outputs": [
    {
     "name": "stdout",
     "output_type": "stream",
     "text": [
      "  (0, 14)\t1\n",
      "  (1, 0)\t1\n",
      "  (1, 5)\t1\n",
      "  (2, 4)\t1\n",
      "  (3, 5)\t1\n",
      "  (3, 9)\t1\n",
      "  (3, 10)\t2\n",
      "  (3, 7)\t1\n",
      "  (4, 14)\t1\n",
      "  (4, 5)\t1\n",
      "  (7, 14)\t1\n",
      "  (7, 5)\t1\n",
      "  (8, 4)\t1\n",
      "  (9, 10)\t1\n",
      "  (9, 7)\t1\n",
      "  (9, 12)\t1\n",
      "  (9, 2)\t2\n",
      "  (9, 1)\t1\n",
      "  (9, 8)\t1\n",
      "  (9, 6)\t1\n",
      "  (10, 5)\t1\n",
      "  (12, 0)\t1\n",
      "  (12, 5)\t1\n",
      "  (13, 15)\t1\n",
      "  (16, 9)\t1\n",
      "  :\t:\n",
      "  (257, 11)\t1\n",
      "  (258, 5)\t1\n",
      "  (258, 7)\t2\n",
      "  (258, 12)\t1\n",
      "  (258, 6)\t2\n",
      "  (259, 5)\t1\n",
      "  (259, 2)\t1\n",
      "  (259, 6)\t1\n",
      "  (260, 0)\t1\n",
      "  (260, 5)\t1\n",
      "  (261, 0)\t1\n",
      "  (261, 12)\t1\n",
      "  (261, 2)\t1\n",
      "  (261, 8)\t1\n",
      "  (263, 5)\t1\n",
      "  (263, 4)\t1\n",
      "  (264, 5)\t1\n",
      "  (264, 7)\t1\n",
      "  (264, 2)\t1\n",
      "  (264, 3)\t2\n",
      "  (265, 5)\t1\n",
      "  (265, 12)\t1\n",
      "  (266, 5)\t1\n",
      "  (266, 15)\t1\n",
      "  (267, 5)\t1\n"
     ]
    }
   ],
   "source": [
    "from sklearn.feature_extraction.text import CountVectorizer,TfidfVectorizer\n",
    "countvectorizer=CountVectorizer(stop_words='english',max_df=0.9,min_df=0.05)\n",
    "count_train=countvectorizer.fit_transform(X_train)\n",
    "count_test=countvectorizer.transform(X_test)\n",
    "print(count_train)\n",
    "\n"
   ]
  },
  {
   "cell_type": "code",
   "execution_count": 7,
   "metadata": {},
   "outputs": [
    {
     "name": "stdout",
     "output_type": "stream",
     "text": [
      "  (0, 14)\t1.0\n",
      "  (1, 5)\t0.4710812987090881\n",
      "  (1, 0)\t0.8820897970198719\n",
      "  (2, 4)\t1.0\n",
      "  (3, 7)\t0.4030542717380854\n",
      "  (3, 10)\t0.7872236802528448\n",
      "  (3, 9)\t0.43061321270678876\n",
      "  (3, 5)\t0.1799955341812302\n",
      "  (4, 5)\t0.3992702582628137\n",
      "  (4, 14)\t0.9168332786645269\n",
      "  (7, 5)\t0.3992702582628137\n",
      "  (7, 14)\t0.9168332786645269\n",
      "  (8, 4)\t1.0\n",
      "  (9, 6)\t0.2902370917689949\n",
      "  (9, 8)\t0.3259101715742587\n",
      "  (9, 1)\t0.32115330283104526\n",
      "  (9, 2)\t0.6839018777401235\n",
      "  (9, 12)\t0.2492941351184011\n",
      "  (9, 7)\t0.30059971865514257\n",
      "  (9, 10)\t0.2935575099876935\n",
      "  (10, 5)\t1.0\n",
      "  (12, 5)\t0.4710812987090881\n",
      "  (12, 0)\t0.8820897970198719\n",
      "  (13, 15)\t1.0\n",
      "  (16, 3)\t0.39194139266692035\n",
      "  :\t:\n",
      "  (257, 0)\t0.5987183762274957\n",
      "  (258, 6)\t0.6578653873104569\n",
      "  (258, 12)\t0.28253105375729254\n",
      "  (258, 7)\t0.6813538170919791\n",
      "  (258, 5)\t0.15213911980764952\n",
      "  (259, 6)\t0.6199315535246923\n",
      "  (259, 2)\t0.7303896806258939\n",
      "  (259, 5)\t0.28673294784462144\n",
      "  (260, 5)\t0.4710812987090881\n",
      "  (260, 0)\t0.8820897970198719\n",
      "  (261, 8)\t0.5520892634948447\n",
      "  (261, 2)\t0.5792621969429014\n",
      "  (261, 12)\t0.42230230123315654\n",
      "  (261, 0)\t0.425809251543204\n",
      "  (263, 4)\t0.898827560348345\n",
      "  (263, 5)\t0.43830242613775505\n",
      "  (264, 3)\t0.7606355904281696\n",
      "  (264, 2)\t0.467667005488254\n",
      "  (264, 7)\t0.4111132747247157\n",
      "  (264, 5)\t0.1835945148874545\n",
      "  (265, 12)\t0.8804619756334622\n",
      "  (265, 5)\t0.4741167677520177\n",
      "  (266, 15)\t0.9287313490713304\n",
      "  (266, 5)\t0.3707533968180825\n",
      "  (267, 5)\t1.0\n"
     ]
    }
   ],
   "source": [
    "tfidf=TfidfVectorizer(stop_words='english',max_df=0.9,min_df=0.05)\n",
    "tfidf_train=tfidf.fit_transform(X_train)\n",
    "tfidf_test=tfidf.transform(X_test)\n",
    "print(tfidf_train)"
   ]
  },
  {
   "cell_type": "code",
   "execution_count": 8,
   "metadata": {},
   "outputs": [],
   "source": [
    "from sklearn.naive_bayes import MultinomialNB\n",
    "nb=MultinomialNB()"
   ]
  },
  {
   "cell_type": "code",
   "execution_count": 9,
   "metadata": {},
   "outputs": [
    {
     "data": {
      "text/plain": [
       "MultinomialNB()"
      ]
     },
     "execution_count": 9,
     "metadata": {},
     "output_type": "execute_result"
    }
   ],
   "source": [
    "nb.fit(tfidf_train,Y_train)"
   ]
  },
  {
   "cell_type": "code",
   "execution_count": 10,
   "metadata": {},
   "outputs": [],
   "source": [
    "tfidf_pred=nb.predict(tfidf_test)\n",
    "from sklearn import metrics\n",
    "score=metrics.accuracy_score(tfidf_pred,Y_test)\n"
   ]
  },
  {
   "cell_type": "code",
   "execution_count": 11,
   "metadata": {},
   "outputs": [],
   "source": [
    "count_nb=MultinomialNB()"
   ]
  },
  {
   "cell_type": "code",
   "execution_count": 12,
   "metadata": {},
   "outputs": [
    {
     "data": {
      "text/plain": [
       "MultinomialNB()"
      ]
     },
     "execution_count": 12,
     "metadata": {},
     "output_type": "execute_result"
    }
   ],
   "source": [
    "count_nb.fit(count_train,Y_train)"
   ]
  },
  {
   "cell_type": "code",
   "execution_count": 13,
   "metadata": {},
   "outputs": [],
   "source": [
    "count_nb_pred=count_nb.predict(count_test)\n",
    "score2=metrics.accuracy_score(count_nb_pred,Y_test)\n"
   ]
  },
  {
   "cell_type": "code",
   "execution_count": 14,
   "metadata": {},
   "outputs": [
    {
     "name": "stdout",
     "output_type": "stream",
     "text": [
      "Tfidf Accurancy Score              80.3 %\n",
      "Count Vectorizer Accuracy Score    79.55 %\n"
     ]
    }
   ],
   "source": [
    "print(\"Tfidf Accurancy Score             \",round(score*100,2),\"%\")\n",
    "print(\"Count Vectorizer Accuracy Score   \",round(score2*100,2),\"%\")"
   ]
  },
  {
   "cell_type": "code",
   "execution_count": 15,
   "metadata": {},
   "outputs": [
    {
     "name": "stdout",
     "output_type": "stream",
     "text": [
      "[[56 24]\n",
      " [ 2 50]]\n"
     ]
    }
   ],
   "source": [
    "cf_score=metrics.confusion_matrix(tfidf_pred,Y_test)\n",
    "print(cf_score)"
   ]
  },
  {
   "cell_type": "code",
   "execution_count": 25,
   "metadata": {},
   "outputs": [
    {
     "data": {
      "text/plain": [
       "[Text(0, 0.5, 'Donald J. Trump'), Text(0, 1.5, 'Justin Trudeau')]"
      ]
     },
     "execution_count": 25,
     "metadata": {},
     "output_type": "execute_result"
    },
    {
     "data": {
      "image/png": "[encoded data removed]",
      "text/plain": [
       "<Figure size 432x288 with 2 Axes>"
      ]
     },
     "metadata": {
      "needs_background": "light"
     },
     "output_type": "display_data"
    }
   ],
   "source": [
    "import seaborn as sb\n",
    "g=sb.heatmap(cf_score,annot=True)\n",
    "g.set_xticklabels([\"Donald J. Trump\",\"Justin Trudeau\"])\n",
    "g.set_yticklabels([\"Donald J. Trump\",\"Justin Trudeau\"])"
   ]
  },
  {
   "cell_type": "code",
   "execution_count": 28,
   "metadata": {},
   "outputs": [
    {
     "data": {
      "text/plain": [
       "[Text(0, 0.5, 'Donald J. Trump'), Text(0, 1.5, 'Justin Trudeau')]"
      ]
     },
     "execution_count": 28,
     "metadata": {},
     "output_type": "execute_result"
    },
    {
     "data": {
      "image/png": "[encoded data removed]",
      "text/plain": [
       "<Figure size 432x288 with 2 Axes>"
      ]
     },
     "metadata": {
      "needs_background": "light"
     },
     "output_type": "display_data"
    }
   ],
   "source": [
    "cfscore2=metrics.confusion_matrix(count_nb_pred,Y_test)\n",
    "g=sb.heatmap(cfscore2,annot=True)\n",
    "g.set_xticklabels([\"Donald J. Trump\",\"Justin Trudeau\"])\n",
    "g.set_yticklabels([\"Donald J. Trump\",\"Justin Trudeau\"])"
   ]
  },
  {
   "cell_type": "code",
   "execution_count": 31,
   "metadata": {},
   "outputs": [],
   "source": [
    "from sklearn.svm import LinearSVC\n",
    "tfidf_sv=LinearSVC()"
   ]
  },
  {
   "cell_type": "code",
   "execution_count": 32,
   "metadata": {},
   "outputs": [
    {
     "data": {
      "text/plain": [
       "LinearSVC()"
      ]
     },
     "execution_count": 32,
     "metadata": {},
     "output_type": "execute_result"
    }
   ],
   "source": [
    "tfidf_sv.fit(tfidf_train,Y_train)"
   ]
  },
  {
   "cell_type": "code",
   "execution_count": 33,
   "metadata": {},
   "outputs": [],
   "source": [
    "tfidf_svc_pred=tfidf_sv.predict(tfidf_test)"
   ]
  },
  {
   "cell_type": "code",
   "execution_count": 37,
   "metadata": {},
   "outputs": [
    {
     "name": "stdout",
     "output_type": "stream",
     "text": [
      "Linear SVM Score   84 2 %\n"
     ]
    }
   ],
   "source": [
    "svmscore3=metrics.accuracy_score(tfidf_svc_pred,Y_test)\n",
    "print(\"Linear SVM Score  \",round(svmscore3*100),2,\"%\")"
   ]
  },
  {
   "cell_type": "code",
   "execution_count": 38,
   "metadata": {},
   "outputs": [
    {
     "data": {
      "text/plain": [
       "[Text(0, 0.5, 'Donald J. Trump'), Text(0, 1.5, 'Justin Trudeau')]"
      ]
     },
     "execution_count": 38,
     "metadata": {},
     "output_type": "execute_result"
    },
    {
     "data": {
      "image/png": "[encoded data removed]",
      "text/plain": [
       "<Figure size 432x288 with 2 Axes>"
      ]
     },
     "metadata": {
      "needs_background": "light"
     },
     "output_type": "display_data"
    }
   ],
   "source": [
    "cfscore3=metrics.confusion_matrix(tfidf_svc_pred,Y_test)\n",
    "g=sb.heatmap(cfscore3,annot=True)\n",
    "g.set_xticklabels([\"Donald J. Trump\",\"Justin Trudeau\"])\n",
    "g.set_yticklabels([\"Donald J. Trump\",\"Justin Trudeau\"])"
   ]
  },
  {
   "cell_type": "code",
   "execution_count": 40,
   "metadata": {},
   "outputs": [],
   "source": [
    "from pprint import pprint\n",
    "def plot_and_return_top_features(classifier, vectorizer, top_features=20):\n",
    "    \n",
    "    class_labels = classifier.classes_\n",
    "    feature_names = vectorizer.get_feature_names()\n",
    "    topn_class1 = sorted(zip(classifier.coef_[0], feature_names))[:top_features]\n",
    "    topn_class2 = sorted(zip(classifier.coef_[0], feature_names))[-top_features:]\n",
    "    top_coefficients = np.hstack([topn_class1, topn_class2])\n",
    "    if set(topn_class1).union(topn_class2):\n",
    "        top_coefficients = topn_class1\n",
    "        for ce in topn_class2:\n",
    "            if ce not in topn_class1:\n",
    "                top_coefficients.append(x)\n",
    "\n",
    "    plt.figure(figsize=(15, 5))\n",
    "    colors = ['red' if c < 0 else 'blue' for c in [tc[0] for tc in top_coefficients]]\n",
    "    plt.bar(np.arange(len(top_coefficients)), [tc[0] for tc in top_coefficients], color=colors)\n",
    "    plt.xticks(np.arange(len(top_coefficients)),\n",
    "               [tc[1] for tc in top_coefficients], rotation=60, ha='right')\n",
    "    plt.show()\n",
    "    return top_coefficients"
   ]
  },
  {
   "cell_type": "code",
   "execution_count": 41,
   "metadata": {},
   "outputs": [
    {
     "data": {
      "image/png": "[encoded data removed]",
      "text/plain": [
       "<Figure size 1080x360 with 1 Axes>"
      ]
     },
     "metadata": {
      "needs_background": "light"
     },
     "output_type": "display_data"
    }
   ],
   "source": [
    "top_features=plot_and_return_top_features(tfidf_sv,tfidf)"
   ]
  },
  {
   "cell_type": "code",
   "execution_count": 44,
   "metadata": {},
   "outputs": [],
   "source": [
    "trump_tweet=\"fake news\"\n",
    "trudeau_tweet='canada'\n",
    "trump_tweet_vectorized=tfidf.transform([trump_tweet])\n",
    "trudeau_tweet_vectorized=tfidf.transform([trudeau_tweet])\n"
   ]
  },
  {
   "cell_type": "code",
   "execution_count": 46,
   "metadata": {},
   "outputs": [],
   "source": [
    "trump_tweet_pred=tfidf_sv.predict(trump_tweet_vectorized)\n",
    "trudeau_tweet_pred=tfidf_sv.predict(trudeau_tweet_vectorized)"
   ]
  },
  {
   "cell_type": "code",
   "execution_count": 48,
   "metadata": {},
   "outputs": [
    {
     "name": "stdout",
     "output_type": "stream",
     "text": [
      "Predicted Trump Tweet  ['Donald J. Trump']\n",
      "Predicted Trudeau Tweet ['Justin Trudeau']\n"
     ]
    }
   ],
   "source": [
    "print(\"Predicted Trump Tweet \",trump_tweet_pred)\n",
    "print(\"Predicted Trudeau Tweet\",trudeau_tweet_pred)"
   ]
  },
  {
   "cell_type": "code",
   "execution_count": null,
   "metadata": {},
   "outputs": [],
   "source": []
  }
 ],
 "metadata": {
  "kernelspec": {
   "display_name": "Python 3",
   "language": "python",
   "name": "python3"
  },
  "language_info": {
   "codemirror_mode": {
    "name": "ipython",
    "version": 3
   },
   "file_extension": ".py",
   "mimetype": "text/x-python",
   "name": "python",
   "nbconvert_exporter": "python",
   "pygments_lexer": "ipython3",
   "version": "3.8.5"
  }
 },
 "nbformat": 4,
 "nbformat_minor": 4
}
